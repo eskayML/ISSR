{
 "cells": [
  {
   "cell_type": "markdown",
   "metadata": {
    "id": "C10ZuDagsTwi"
   },
   "source": [
    "FOR THIS SECOND VERSION OF BENCHMARKING, I AM REMOVING THE FUNCTIONALITY OF DIARIZATION SINCE I REALIZED THAT DIARIZATION WAS KIND OF POISIONING THE RESUTLS, SINCE IT WAS PROVIDING A KIND OF UNFAIR WAY OF EVALUATING THE ENTIRE TRANSCRIPTIONS , SINCE I USUALLY NEEDED TO PROVIDE A SPEAKER WHICH ENDED UP INCREASING THE NUMBER OF ROWS."
   ]
  },
  {
   "cell_type": "code",
   "execution_count": 1,
   "metadata": {
    "colab": {
     "base_uri": "https://localhost:8080/"
    },
    "execution": {
     "iopub.execute_input": "2025-07-21T20:20:04.071816Z",
     "iopub.status.busy": "2025-07-21T20:20:04.071594Z",
     "iopub.status.idle": "2025-07-21T20:20:10.544756Z",
     "shell.execute_reply": "2025-07-21T20:20:10.544063Z",
     "shell.execute_reply.started": "2025-07-21T20:20:04.071798Z"
    },
    "executionInfo": {
     "elapsed": 3637,
     "status": "ok",
     "timestamp": 1752753980731,
     "user": {
      "displayName": "Kalu Samuel",
      "userId": "18347648580406705831"
     },
     "user_tz": -60
    },
    "id": "psWdiPQbwU0s",
    "outputId": "7c7b8420-7622-421f-dc9e-0e9e3a423355",
    "trusted": true
   },
   "outputs": [
    {
     "name": "stdout",
     "output_type": "stream",
     "text": [
      "/bin/bash: line 1: cd: triplab-zipped-benchmarks: No such file or directory\n",
      "Downloading...\n",
      "From (original): https://drive.google.com/uc?id=1KNqKhKcAZZ-h0BSr1FGGf4sl9wiXOj7o\n",
      "From (redirected): https://drive.google.com/uc?id=1KNqKhKcAZZ-h0BSr1FGGf4sl9wiXOj7o&confirm=t&uuid=3b3393ab-7662-48ea-8d9b-1e56e497140d\n",
      "To: /kaggle/working/Experimenter_CREW_999_1_All_1731617801.mp4\n",
      "100%|████████████████████████████████████████| 180M/180M [00:02<00:00, 72.6MB/s]\n"
     ]
    }
   ],
   "source": [
    "!cd triplab-zipped-benchmarks\n",
    "\n",
    "!gdown 1KNqKhKcAZZ-h0BSr1FGGf4sl9wiXOj7o # DOWNLOAD THE SAMPLE VIDEO AUTOMATICALLY\n",
    "\n",
    "\n"
   ]
  },
  {
   "cell_type": "code",
   "execution_count": 3,
   "metadata": {
    "execution": {
     "iopub.execute_input": "2025-07-21T20:21:37.589835Z",
     "iopub.status.busy": "2025-07-21T20:21:37.589501Z",
     "iopub.status.idle": "2025-07-21T20:21:37.595227Z",
     "shell.execute_reply": "2025-07-21T20:21:37.594428Z",
     "shell.execute_reply.started": "2025-07-21T20:21:37.589798Z"
    },
    "id": "ygOEjdm9r4pl",
    "trusted": true
   },
   "outputs": [],
   "source": [
    "HUMAN = '''\n",
    "Okay, so the drive you're going to complete will use the vehicle automation and the object detection system.\n",
    "So that means you will not need to operate the vehicle. You should keep your hands off the steering wheel and feet off the pedals once we begin that drive.\n",
    "Okay. So when you see that sim driver indicator highlight green, make sure you don't hit the brake at any point during the drive.\n",
    "For this drive, the car cab lookout will have the ODS for getting visual feedback for targets that are in the environment.\n",
    "So the car cab lookout should pay attention to that screen to aid them and everyone else during the mission.\n",
    "Remember to tap the targets on that ODS as well as completing those workstation tasks. All right,\n",
    "so all drivers put your foot on the brake. Do not remove your foot from the brake until I instruct you to remove it. Car cab driver,\n",
    "you may start the car All drivers with your foot still on the brake. Keep it on the brake and do not start yet, keep your foot on the brake.\n",
    "You drove through me. Car cab driver and only the car cab driver. Yes. Make sure everyone is in drive. I am now in drive. Okay, car cab driver and only the car cab driver, you may begin move forward. As I drove through him. Desktop drivers you may remove your foot from the brake. We now have simdriver on. We are looking at a person on a scooter.What color scooter?. Scooter. Yeah with a cross body bag. It's driving automatic. I see scooters on both sides of the road . Nope not this one , not Motorcycles. It's like an electric scooter. Ah yeah, that's on the left side of the road. Yeah, I saw her on the left. passing now. 10'o clock. Yeah, that was correct. Do we have a new target? Not yet. I hit target identified but. Me as well. Okay. Those motorcyclists were giving me a hand. There's a car. There's a red car thats kind of beat up, there's boxes on the roof. Yeah. Pass. Oh, I see it. It's at ten o'clock. Okay, yeah, I think it's on the left. I see the box. I think he's on the left side, yeah. Yeah, I saw him on the left, nine o'clock. Passing now. Yup. Yeah, we're also passing now, car one. Why is car three so far behind car two? I don't know, it's driving itself. Yeah. Is the ODS working? Yes. Sometimes it has a green button there, that says identified. No you won't see anything but they should see something in the passenger seat if the ODS is working. It should be a white car right now. But we see a green button here. A white car. We are looking for a white jeep. SUV, like a jeep. Now we're looking for a white stand or SUV? SUV, yeah. Yeah, SUV. I see a camel. Now We got cars coming up. Oh, I just saw that. there's a driving white car on the left. Yeah, white car on the left. But it's not is it?. Passing now, I think that was it. Yeah We have another white SUV and They look pretty similar. yeah passing that one left now. Passing military checkpoint. Now we're looking for like a Humvee with a. There is a truck and there is a tent on the truck. It's got like stereotypical army camouflage Yeah. Yup. Yup. Jack do you feel like this has given you enough to understand or do you want to continue? Yeah, I think. How about you commander? I think it's enough. I mean I'm having fun, but we can stop if you want to. Okay. Ben, we can kill it. Alright, so all drivers will slowly put your foot on the brake. Okay, commander breaking now. Please don't run through me! No! We've been rear-ended. Shift into park. And parked now. Good job, team.\n",
    "'''"
   ]
  },
  {
   "cell_type": "code",
   "execution_count": 4,
   "metadata": {
    "execution": {
     "iopub.execute_input": "2025-07-21T20:21:37.597013Z",
     "iopub.status.busy": "2025-07-21T20:21:37.596777Z",
     "iopub.status.idle": "2025-07-21T20:22:07.737478Z",
     "shell.execute_reply": "2025-07-21T20:22:07.736594Z",
     "shell.execute_reply.started": "2025-07-21T20:21:37.596986Z"
    },
    "id": "X64-aZMtxR4I",
    "trusted": true
   },
   "outputs": [
    {
     "name": "stderr",
     "output_type": "stream",
     "text": [
      "error: XDG_RUNTIME_DIR not set in the environment.\n",
      "ALSA lib confmisc.c:855:(parse_card) cannot find card '0'\n",
      "ALSA lib conf.c:5178:(_snd_config_evaluate) function snd_func_card_inum returned error: No such file or directory\n",
      "ALSA lib confmisc.c:422:(snd_func_concat) error evaluating strings\n",
      "ALSA lib conf.c:5178:(_snd_config_evaluate) function snd_func_concat returned error: No such file or directory\n",
      "ALSA lib confmisc.c:1334:(snd_func_refer) error evaluating name\n",
      "ALSA lib conf.c:5178:(_snd_config_evaluate) function snd_func_refer returned error: No such file or directory\n",
      "ALSA lib conf.c:5701:(snd_config_expand) Evaluate error: No such file or directory\n",
      "ALSA lib pcm.c:2664:(snd_pcm_open_noupdate) Unknown PCM default\n",
      "ALSA lib confmisc.c:855:(parse_card) cannot find card '0'\n",
      "ALSA lib conf.c:5178:(_snd_config_evaluate) function snd_func_card_inum returned error: No such file or directory\n",
      "ALSA lib confmisc.c:422:(snd_func_concat) error evaluating strings\n",
      "ALSA lib conf.c:5178:(_snd_config_evaluate) function snd_func_concat returned error: No such file or directory\n",
      "ALSA lib confmisc.c:1334:(snd_func_refer) error evaluating name\n",
      "ALSA lib conf.c:5178:(_snd_config_evaluate) function snd_func_refer returned error: No such file or directory\n",
      "ALSA lib conf.c:5701:(snd_config_expand) Evaluate error: No such file or directory\n",
      "ALSA lib pcm.c:2664:(snd_pcm_open_noupdate) Unknown PCM default\n",
      "2025-07-21 20:21:49.941577: E external/local_xla/xla/stream_executor/cuda/cuda_fft.cc:477] Unable to register cuFFT factory: Attempting to register factory for plugin cuFFT when one has already been registered\n",
      "WARNING: All log messages before absl::InitializeLog() is called are written to STDERR\n",
      "E0000 00:00:1753129310.138109      36 cuda_dnn.cc:8310] Unable to register cuDNN factory: Attempting to register factory for plugin cuDNN when one has already been registered\n",
      "E0000 00:00:1753129310.196870      36 cuda_blas.cc:1418] Unable to register cuBLAS factory: Attempting to register factory for plugin cuBLAS when one has already been registered\n"
     ]
    }
   ],
   "source": [
    "import os\n",
    "import pandas as pd\n",
    "from moviepy.editor import VideoFileClip\n",
    "import whisper\n",
    "from transformers import pipeline\n",
    "import numpy as np\n",
    "import warnings\n",
    "warnings.filterwarnings('ignore')\n",
    "\n",
    "\n",
    "def extract_audio(video_path, audio_path):\n",
    "    \"\"\"Extract audio from video file and save as WAV.\"\"\"\n",
    "    video = VideoFileClip(video_path)\n",
    "    video.audio.write_audiofile(audio_path, verbose=False, logger=None)\n",
    "    return audio_path\n",
    "\n",
    "audio_file = extract_audio(\"Experimenter_CREW_999_1_All_1731617801.mp4\",'temp_audio.wav' ) # Update path of audio file\n"
   ]
  },
  {
   "cell_type": "markdown",
   "metadata": {
    "id": "tx6ye2Pg4HDH"
   },
   "source": [
    "### Running the heavy transcription models all at once to benchmark performance"
   ]
  },
  {
   "cell_type": "code",
   "execution_count": 5,
   "metadata": {
    "execution": {
     "iopub.execute_input": "2025-07-21T20:22:07.738853Z",
     "iopub.status.busy": "2025-07-21T20:22:07.738324Z",
     "iopub.status.idle": "2025-07-21T20:22:07.743763Z",
     "shell.execute_reply": "2025-07-21T20:22:07.742852Z",
     "shell.execute_reply.started": "2025-07-21T20:22:07.738832Z"
    },
    "id": "J7jZ-kTUxjec",
    "trusted": true
   },
   "outputs": [],
   "source": [
    "\n",
    "# transcripts = {}\n",
    "\n",
    "# print(\"Transcribing with model: tiny.en\")\n",
    "# try:\n",
    "#     model = whisper.load_model(\"tiny.en\")\n",
    "#     result = model.transcribe(audio_file)\n",
    "#     transcripts[\"tiny_en\"] = result[\"text\"]\n",
    "# except Exception as e:\n",
    "#     print(f\"Error transcribing with model tiny.en: {e}\")\n",
    "#     transcripts[\"tiny_en\"] = f\"Error: {e}\"\n",
    "\n",
    "# print(\"Transcribing with model: base.en\")\n",
    "# try:\n",
    "#     model = whisper.load_model(\"base.en\")\n",
    "#     result = model.transcribe(audio_file)\n",
    "#     transcripts[\"base_en\"] = result[\"text\"]\n",
    "# except Exception as e:\n",
    "#     print(f\"Error transcribing with model base.en: {e}\")\n",
    "#     transcripts[\"base_en\"] = f\"Error: {e}\"\n",
    "\n",
    "# print(\"Transcribing with model: small.en\")\n",
    "# try:\n",
    "#     model = whisper.load_model(\"small.en\")\n",
    "#     result = model.transcribe(audio_file)\n",
    "#     transcripts[\"small_en\"] = result[\"text\"]\n",
    "# except Exception as e:\n",
    "#     print(f\"Error transcribing with model small.en: {e}\")\n",
    "#     transcripts[\"small_en\"] = f\"Error: {e}\"\n",
    "\n",
    "# print(\"Transcribing with model: medium.en\")\n",
    "# try:\n",
    "#     model = whisper.load_model(\"medium.en\")\n",
    "#     result = model.transcribe(audio_file)\n",
    "#     transcripts[\"medium_en\"] = result[\"text\"]\n",
    "# except Exception as e:\n",
    "#     print(f\"Error transcribing with model medium.en: {e}\")\n",
    "#     transcripts[\"medium_en\"] = f\"Error: {e}\"\n",
    "\n",
    "# print(\"Transcribing with model: large\")\n",
    "# try:\n",
    "#     model = whisper.load_model(\"large\")\n",
    "#     result = model.transcribe(audio_file)\n",
    "#     transcripts[\"large\"] = result[\"text\"]\n",
    "# except Exception as e:\n",
    "#     print(f\"Error transcribing with model large: {e}\")\n",
    "#     transcripts[\"large\"] = f\"Error: {e}\"\n",
    "\n",
    "# print(\"Transcribing with model: turbo\")\n",
    "# try:\n",
    "#     model = whisper.load_model(\"turbo\")\n",
    "#     result = model.transcribe(audio_file)\n",
    "#     transcripts[\"turbo\"] = result[\"text\"]\n",
    "# except Exception as e:\n",
    "#     print(f\"Error transcribing with model turbo: {e}\")\n",
    "#     transcripts[\"turbo\"] = f\"Error: {e}\"\n",
    "\n",
    "# tiny_en = transcripts[\"tiny_en\"]\n",
    "# base_en = transcripts[\"base_en\"]\n",
    "# small_en = transcripts[\"small_en\"]\n",
    "# medium_en = transcripts[\"medium_en\"]\n",
    "# large = transcripts[\"large\"]\n",
    "# turbo = transcripts[\"turbo\"]\n",
    "\n",
    "# print(\"Transcript for tiny.en stored in variable 'tiny_en'.\")\n",
    "# print(\"Transcript for base.en stored in variable 'base_en'.\")\n",
    "# print(\"Transcript for small.en stored in variable 'small_en'.\")\n",
    "# print(\"Transcript for medium.en stored in variable 'medium_en'.\")\n",
    "# print(\"Transcript for large stored in variable 'large'.\")\n",
    "# print(\"Transcript for turbo stored in variable 'turbo'.\")\n"
   ]
  },
  {
   "cell_type": "code",
   "execution_count": 6,
   "metadata": {
    "execution": {
     "iopub.execute_input": "2025-07-21T20:22:07.745017Z",
     "iopub.status.busy": "2025-07-21T20:22:07.744760Z",
     "iopub.status.idle": "2025-07-21T20:22:07.783919Z",
     "shell.execute_reply": "2025-07-21T20:22:07.783232Z",
     "shell.execute_reply.started": "2025-07-21T20:22:07.744993Z"
    },
    "id": "cAkQHB-z4slo",
    "trusted": true
   },
   "outputs": [
    {
     "name": "stdout",
     "output_type": "stream",
     "text": [
      "Loaded tiny.en_transcript.txt into variable 'tiny_en'.\n",
      "Loaded base.en_transcript.txt into variable 'base_en'.\n",
      "Loaded small.en_transcript.txt into variable 'small_en'.\n",
      "Loaded medium.en_transcript.txt into variable 'medium_en'.\n",
      "Loaded large_transcript.txt into variable 'large'.\n",
      "Loaded turbo_transcript.txt into variable 'turbo'.\n"
     ]
    }
   ],
   "source": [
    "\n",
    "# os.chdir(\"kaggle/input/triplab-zipped-benchmarks\")\n",
    "\n",
    "try:\n",
    "    with open('/kaggle/input/triplab-zipped-benchmarks/tiny.en_transcript.txt', 'r') as f:\n",
    "        tiny_en = f.read()\n",
    "    print(\"Loaded tiny.en_transcript.txt into variable 'tiny_en'.\")\n",
    "except FileNotFoundError:\n",
    "    tiny_en = \"Error: tiny.en_transcript.txt not found.\"\n",
    "    print(\"Error: tiny.en_transcript.txt not found.\")\n",
    "\n",
    "try:\n",
    "    with open('/kaggle/input/triplab-zipped-benchmarks/base.en_transcript.txt', 'r') as f:\n",
    "        base_en = f.read()\n",
    "    print(\"Loaded base.en_transcript.txt into variable 'base_en'.\")\n",
    "except FileNotFoundError:\n",
    "    base_en = \"Error: base.en_transcript.txt not found.\"\n",
    "    print(\"Error: base.en_transcript.txt not found.\")\n",
    "\n",
    "try:\n",
    "    with open('/kaggle/input/triplab-zipped-benchmarks/small.en_transcript.txt', 'r') as f:\n",
    "        small_en = f.read()\n",
    "    print(\"Loaded small.en_transcript.txt into variable 'small_en'.\")\n",
    "except FileNotFoundError:\n",
    "    small_en = \"Error: small.en_transcript.txt not found.\"\n",
    "    print(\"Error: small.en_transcript.txt not found.\")\n",
    "\n",
    "try:\n",
    "    with open('/kaggle/input/triplab-zipped-benchmarks/medium.en_transcript.txt', 'r') as f:\n",
    "        medium_en = f.read()\n",
    "    print(\"Loaded medium.en_transcript.txt into variable 'medium_en'.\")\n",
    "except FileNotFoundError:\n",
    "    medium_en = \"Error: medium.en_transcript.txt not found.\"\n",
    "    print(\"Error: medium.en_transcript.txt not found.\")\n",
    "\n",
    "try:\n",
    "    with open('/kaggle/input/triplab-zipped-benchmarks/large_transcript.txt', 'r') as f:\n",
    "        large = f.read()\n",
    "    print(\"Loaded large_transcript.txt into variable 'large'.\")\n",
    "except FileNotFoundError:\n",
    "    large = \"Error: large_transcript.txt not found.\"\n",
    "    print(\"Error: large_transcript.txt not found.\")\n",
    "\n",
    "try:\n",
    "    with open('/kaggle/input/triplab-zipped-benchmarks/turbo_transcript.txt', 'r') as f:\n",
    "        turbo = f.read()\n",
    "    print(\"Loaded turbo_transcript.txt into variable 'turbo'.\")\n",
    "except FileNotFoundError:\n",
    "    turbo = \"Error: turbo_transcript.txt not found.\"\n",
    "    print(\"Error: turbo_transcript.txt not found.\")"
   ]
  },
  {
   "cell_type": "code",
   "execution_count": 7,
   "metadata": {
    "execution": {
     "iopub.execute_input": "2025-07-21T20:22:07.785465Z",
     "iopub.status.busy": "2025-07-21T20:22:07.784756Z",
     "iopub.status.idle": "2025-07-21T20:22:08.608959Z",
     "shell.execute_reply": "2025-07-21T20:22:08.608042Z",
     "shell.execute_reply.started": "2025-07-21T20:22:07.785440Z"
    },
    "id": "mUjZtFlBzWtv",
    "trusted": true
   },
   "outputs": [
    {
     "data": {
      "image/png": "[encoded data removed]",
      "text/plain": [
       "<Figure size 800x600 with 1 Axes>"
      ]
     },
     "metadata": {},
     "output_type": "display_data"
    },
    {
     "name": "stdout",
     "output_type": "stream",
     "text": [
      "\n",
      "Performance Results:\n",
      "tiny.en: Avg WER = 0.6453055141579732\n",
      "base.en: Avg WER = 0.5201192250372578\n",
      "small.en: Avg WER = 0.4247391952309985\n",
      "medium.en: Avg WER = 0.3591654247391952\n",
      "large: Avg WER = 0.4932935916542474\n",
      "turbo: Avg WER = 0.4143070044709389\n"
     ]
    }
   ],
   "source": [
    "import pandas as pd\n",
    "import matplotlib.pyplot as plt\n",
    "import numpy as np\n",
    "import editdistance\n",
    "import seaborn as sns\n",
    "\n",
    "def calculate_wer(reference, hypothesis):\n",
    "    \"\"\"Calculates the Word Error Rate (WER) between two strings.\"\"\"\n",
    "    ref_words = reference.split()\n",
    "    hyp_words = hypothesis.split()\n",
    "    if not ref_words:  # Handle empty reference string to avoid ZeroDivisionError\n",
    "        return 1.0 if hyp_words else 0.0\n",
    "    return editdistance.eval(ref_words, hyp_words) / len(ref_words)\n",
    "\n",
    "# Dictionary mapping model names to their transcript variables\n",
    "models = {\n",
    "    'tiny.en': tiny_en,\n",
    "    'base.en': base_en,\n",
    "    'small.en': small_en,\n",
    "    'medium.en': medium_en,\n",
    "    'large': large,\n",
    "    'turbo': turbo\n",
    "}\n",
    "\n",
    "results = {}\n",
    "\n",
    "for model_name, transcript in models.items():\n",
    "    wer_scores = []\n",
    "\n",
    "    # Ensure HUMAN is a string, remove newlines, and strip whitespace\n",
    "    human_text = str(HUMAN).replace('\\n', ' ').strip()\n",
    "    if not human_text:\n",
    "        print(f\"Warning: HUMAN transcript is empty for comparison with {model_name}.\")\n",
    "        results[model_name] = {'avg_wer': np.nan}\n",
    "        continue\n",
    "\n",
    "    # Convert model transcript to string, remove newlines, and strip whitespace\n",
    "    model_text = str(transcript).replace('\\n', ' ').strip()\n",
    "    if model_text:\n",
    "        wer = calculate_wer(human_text, model_text)\n",
    "        wer_scores.append(wer)\n",
    "    else:\n",
    "        # If model text is empty, assign maximum error or handle as appropriate\n",
    "        wer_scores.append(1.0 if human_text else 0.0)\n",
    "\n",
    "    if wer_scores:\n",
    "        avg_wer = np.mean(wer_scores)\n",
    "        results[model_name] = {'avg_wer': avg_wer}\n",
    "    else:\n",
    "        results[model_name] = {'avg_wer': np.nan}\n",
    "\n",
    "# Prepare data for plotting\n",
    "model_names = list(results.keys())\n",
    "avg_wers = [results[model]['avg_wer'] for model in model_names]\n",
    "\n",
    "# Find the index of the smallest WER\n",
    "min_wer_index = np.argmin([wer if not np.isnan(wer) else np.inf for wer in avg_wers])\n",
    "# Create colors list, default to blue, set smallest WER to green\n",
    "wer_colors = ['skyblue'] * len(model_names)\n",
    "wer_colors[min_wer_index] = 'forestgreen'\n",
    "\n",
    "# Create plot\n",
    "plt.figure(figsize=(8, 6))\n",
    "sns.barplot(x=model_names, y=avg_wers, palette=wer_colors)\n",
    "plt.title('Average Word Error Rate (WER) by Model')\n",
    "plt.ylabel('Average WER')\n",
    "plt.xlabel('Model')\n",
    "plt.xticks(rotation=45)\n",
    "plt.tight_layout()\n",
    "plt.show()\n",
    "\n",
    "print(\"\\nPerformance Results:\")\n",
    "for model_name, scores in results.items():\n",
    "    avg_wer = scores['avg_wer']\n",
    "    print(f\"{model_name}: Avg WER = {avg_wer}\")"
   ]
  },
  {
   "cell_type": "code",
   "execution_count": 8,
   "metadata": {
    "execution": {
     "iopub.execute_input": "2025-07-21T20:22:08.610207Z",
     "iopub.status.busy": "2025-07-21T20:22:08.609723Z",
     "iopub.status.idle": "2025-07-21T20:22:08.830990Z",
     "shell.execute_reply": "2025-07-21T20:22:08.830350Z",
     "shell.execute_reply.started": "2025-07-21T20:22:08.610186Z"
    },
    "id": "q6nu7cfe1GUF",
    "trusted": true
   },
   "outputs": [
    {
     "data": {
      "image/png": "[encoded data removed]",
      "text/plain": [
       "<Figure size 1000x600 with 1 Axes>"
      ]
     },
     "metadata": {},
     "output_type": "display_data"
    }
   ],
   "source": [
    "def plot_wer_vs_vram_scatter():\n",
    "    \"\"\"\n",
    "    Plots Word Error Rate (WER) against Required VRAM for each model,\n",
    "    using a scatter plot and no quadrant functionality.\n",
    "    \"\"\"\n",
    "    # Data provided by the user for WER\n",
    "    wer_data = {\n",
    "        'tiny.en': results['tiny.en']['avg_wer'],\n",
    "        'base.en': results['base.en']['avg_wer'],\n",
    "        'small.en': results['small.en']['avg_wer'],\n",
    "        'medium.en': results['medium.en']['avg_wer'],\n",
    "        'large': results['large']['avg_wer'],\n",
    "        'turbo': results['turbo']['avg_wer']\n",
    "    }\n",
    "\n",
    "    # Data extracted from the image for VRAM and Speed (only VRAM needed here)\n",
    "    model_performance_data = {\n",
    "        'tiny': {'required_vram': 1},\n",
    "        'base': {'required_vram': 1},\n",
    "        'small': {'required_vram': 2},\n",
    "        'medium': {'required_vram': 5},\n",
    "        'large': {'required_vram': 10},\n",
    "        'turbo': {'required_vram': 6}\n",
    "    }\n",
    "\n",
    "    # Consolidate data, mapping .en models to their base names\n",
    "    consolidated_data = []\n",
    "    for model_wer_name, wer_value in wer_data.items():\n",
    "        base_model_name = model_wer_name.replace('.en', '') # Remove .en for matching\n",
    "        if base_model_name in model_performance_data:\n",
    "            perf_info = model_performance_data[base_model_name]\n",
    "            consolidated_data.append({\n",
    "                'model_name': model_wer_name,\n",
    "                'wer': wer_value,\n",
    "                'vram': perf_info['required_vram']\n",
    "            })\n",
    "\n",
    "    # Extract lists for plotting\n",
    "    model_names = [d['model_name'] for d in consolidated_data]\n",
    "    wers = [d['wer'] for d in consolidated_data]\n",
    "    vrams = [d['vram'] for d in consolidated_data]\n",
    "\n",
    "    # Create a single plot\n",
    "    plt.figure(figsize=(10, 6))\n",
    "    ax = plt.gca() # Get current axes\n",
    "\n",
    "    ax.scatter(vrams, wers, color='red', s=100, alpha=0.8)\n",
    "    ax.set_title('Word Error Rate (WER) vs. Required VRAM')\n",
    "    ax.set_xlabel('Required VRAM (GB)')\n",
    "    ax.set_ylabel('Average WER')\n",
    "    ax.grid(True, linestyle='--', alpha=0.7)\n",
    "\n",
    "    # Annotate points with model names\n",
    "    for i, txt in enumerate(model_names):\n",
    "        ax.annotate(txt, (vrams[i], wers[i]), textcoords=\"offset points\", xytext=(0,10), ha='center')\n",
    "\n",
    "    plt.tight_layout()\n",
    "    plt.show()\n",
    "\n",
    "# Call the function to generate the plot\n",
    "plot_wer_vs_vram_scatter()"
   ]
  },
  {
   "cell_type": "markdown",
   "metadata": {
    "id": "MHT3Dt8G7P7K"
   },
   "source": [
    "# USING Faster - Whisper\n"
   ]
  },
  {
   "cell_type": "code",
   "execution_count": 9,
   "metadata": {
    "execution": {
     "iopub.execute_input": "2025-07-21T20:22:08.832117Z",
     "iopub.status.busy": "2025-07-21T20:22:08.831860Z",
     "iopub.status.idle": "2025-07-21T20:22:36.607983Z",
     "shell.execute_reply": "2025-07-21T20:22:36.607335Z",
     "shell.execute_reply.started": "2025-07-21T20:22:08.832095Z"
    },
    "id": "CRD1of2L3ITt",
    "trusted": true
   },
   "outputs": [
    {
     "name": "stdout",
     "output_type": "stream",
     "text": [
      "Loading Faster Whisper model: medium.en\n"
     ]
    },
    {
     "data": {
      "application/vnd.jupyter.widget-view+json": {
       "model_id": "a019351f83bf4d8c8edc2d420b7baab4",
       "version_major": 2,
       "version_minor": 0
      },
      "text/plain": [
       "config.json: 0.00B [00:00, ?B/s]"
      ]
     },
     "metadata": {},
     "output_type": "display_data"
    },
    {
     "data": {
      "application/vnd.jupyter.widget-view+json": {
       "model_id": "8700a651c29d4e41a08595a5500b877d",
       "version_major": 2,
       "version_minor": 0
      },
      "text/plain": [
       "vocabulary.txt: 0.00B [00:00, ?B/s]"
      ]
     },
     "metadata": {},
     "output_type": "display_data"
    },
    {
     "data": {
      "application/vnd.jupyter.widget-view+json": {
       "model_id": "265727a323f44d5da78bda2cbba27705",
       "version_major": 2,
       "version_minor": 0
      },
      "text/plain": [
       "tokenizer.json: 0.00B [00:00, ?B/s]"
      ]
     },
     "metadata": {},
     "output_type": "display_data"
    },
    {
     "data": {
      "application/vnd.jupyter.widget-view+json": {
       "model_id": "9686310a905f4a42aa3f8b4568b2c4f9",
       "version_major": 2,
       "version_minor": 0
      },
      "text/plain": [
       "model.bin:   0%|          | 0.00/1.53G [00:00<?, ?B/s]"
      ]
     },
     "metadata": {},
     "output_type": "display_data"
    },
    {
     "name": "stdout",
     "output_type": "stream",
     "text": [
      "Transcribing audio file: temp_audio.wav with Faster Whisper (medium.en)\n",
      "Faster Whisper Transcription:\n",
      "[0.00s -> 13.28s]  Okay, so the drive you're going to complete will use the automation and the object detection\n",
      "[13.28s -> 14.28s]  systems.\n",
      "[14.28s -> 15.28s]  That means you will not need to operate the vehicle.\n",
      "[15.28s -> 19.28s]  So keep your hands off the steering wheel and feet off the pedals once we get that\n",
      "[19.28s -> 20.28s]  drive.\n",
      "[20.28s -> 21.28s]  Okay.\n",
      "[21.28s -> 23.80s]  So when you see that sim driver indicator highlight green, make sure you don't hit\n",
      "[23.80s -> 26.56s]  the brake at any point during the drive.\n",
      "[26.56s -> 30.64s]  This drive, the car cab lookout, will have the ODS for getting visual feedback for targets\n",
      "[30.64s -> 31.64s]  that are in the environment.\n",
      "[31.64s -> 35.60s]  So the car cab lookout should pay attention to that screen to aid them and everyone else\n",
      "[35.60s -> 36.60s]  during the mission.\n",
      "[36.60s -> 40.60s]  Remember to tap the targets on that ODS as well as completing those workstation\n",
      "[40.60s -> 42.60s]  tasks.\n",
      "[42.60s -> 48.24s]  Alright, so all drivers, put your foot on the brake.\n",
      "[48.24s -> 53.44s]  Do not remove your foot from the brake until I instruct you to remove it.\n",
      "[53.44s -> 56.44s]  Car cab driver, you may start the car.\n",
      "[56.44s -> 61.52s]  All drivers, with your foot still on the brake, you've been on the brake and you're\n",
      "[61.52s -> 62.52s]  not start yet.\n",
      "[62.52s -> 63.52s]  You've been on the brake.\n",
      "[63.52s -> 64.52s]  You drove through me.\n",
      "[64.52s -> 65.52s]  Car cab driver, go back.\n",
      "[65.52s -> 86.28s]  Car cab driver, and only the car cab driver, and Ryan, make sure everyone isn't driving.\n",
      "[86.32s -> 87.32s]  I am now in drive.\n",
      "[87.32s -> 95.32s]  Car cab driver, and only the car cab driver, you may begin moving forward.\n",
      "[95.32s -> 96.32s]  As I drove through him.\n",
      "[96.32s -> 99.32s]  Desktop drivers, you may remove your foot from the brake.\n",
      "[99.32s -> 101.32s]  I now have sim driver on.\n",
      "[101.32s -> 108.32s]  We're looking at the person on the scooter.\n",
      "[108.32s -> 110.32s]  What color scooter?\n",
      "[110.32s -> 112.32s]  Cross body bag.\n",
      "[112.32s -> 113.32s]  Scooter?\n",
      "[113.32s -> 115.32s]  Yeah, has a cross body bag.\n",
      "[115.36s -> 129.36s]  I see scooters on both sides of the road.\n",
      "[129.36s -> 131.36s]  Nope, not this one.\n",
      "[131.36s -> 134.36s]  Yeah, it's like an electric scooter.\n",
      "[134.36s -> 137.36s]  Ah, yeah, that's on the left side of the road.\n",
      "[137.36s -> 138.36s]  Yeah, I saw it on the left.\n",
      "[138.36s -> 139.36s]  Passing now.\n",
      "[139.36s -> 140.36s]  10 o'clock.\n",
      "[140.40s -> 141.40s]  10 o'clock.\n",
      "[141.40s -> 142.40s]  Yeah, that was correct.\n",
      "[150.40s -> 152.40s]  Do we have any target?\n",
      "[152.40s -> 153.40s]  Not yet.\n",
      "[153.40s -> 156.40s]  I hit target identified, but.\n",
      "[156.40s -> 157.40s]  Me as well.\n",
      "[157.40s -> 158.40s]  Okay.\n",
      "[160.40s -> 162.40s]  Those motorcyclists were giving me.\n",
      "[162.40s -> 163.40s]  There's a car.\n",
      "[163.40s -> 165.40s]  There's a red car that's kind of beat up.\n",
      "[165.40s -> 167.40s]  There's boxes on the roof.\n",
      "[167.40s -> 168.40s]  Yeah.\n",
      "[168.44s -> 170.44s]  Oh, I see it's at 10 o'clock.\n",
      "[177.44s -> 178.44s]  Passing now.\n",
      "[188.44s -> 191.44s]  Why is car three so far behind car two?\n",
      "[193.44s -> 194.44s]  I don't know.\n",
      "[194.44s -> 195.44s]  Yeah.\n",
      "[198.44s -> 199.44s]  It's parking now.\n",
      "[212.44s -> 214.44s]  Is the ODS working?\n",
      "[214.44s -> 215.44s]  Yes.\n",
      "[215.44s -> 217.44s]  Sometimes it has a green button there.\n",
      "[220.44s -> 224.44s]  No, you won't see anything, but Jack should see something in the passenger seat if the\n",
      "[224.44s -> 225.44s]  ODS is parking.\n",
      "[225.48s -> 227.48s]  There should be a white car right now.\n",
      "[227.48s -> 229.48s]  I don't know, I see a green button here.\n",
      "[229.48s -> 231.48s]  A white car.\n",
      "[231.48s -> 232.48s]  SEV like tube gap.\n",
      "[232.48s -> 236.48s]  Now we're looking at a white stand or SEV?\n",
      "[236.48s -> 237.48s]  SEV, yeah.\n",
      "[237.48s -> 238.48s]  Yeah, SEV.\n",
      "[241.48s -> 242.48s]  I see a camel.\n",
      "[248.48s -> 249.48s]  And we got cars coming up.\n",
      "[249.48s -> 251.48s]  Oh, I think I saw that.\n",
      "[251.48s -> 254.48s]  There's a driving white car on the left.\n",
      "[254.52s -> 255.52s]  On the left.\n",
      "[255.52s -> 256.52s]  Yeah, driving car on the left.\n",
      "[256.52s -> 258.52s]  But he's not.\n",
      "[258.52s -> 259.52s]  Is it?\n",
      "[259.52s -> 260.52s]  Passing now.\n",
      "[260.52s -> 261.52s]  I think that was it.\n",
      "[261.52s -> 262.52s]  Yeah.\n",
      "[262.52s -> 263.52s]  Oh.\n",
      "[263.52s -> 266.52s]  We have another white SUV.\n",
      "[266.52s -> 269.52s]  And, yeah, passing that one on the left now.\n",
      "[279.52s -> 281.52s]  Passing military checkpoint.\n",
      "[284.52s -> 291.52s]  Um, now there's a truck.\n",
      "[291.52s -> 293.52s]  And there's a tent on the truck.\n",
      "[297.52s -> 298.52s]  Yeah.\n",
      "[299.52s -> 300.52s]  Yeah.\n",
      "[301.52s -> 302.52s]  Yup, yup.\n",
      "[302.56s -> 303.56s]  Yup.\n",
      "[313.56s -> 318.56s]  Jack, do you feel like this has given you enough to understand or do you want to continue?\n",
      "[318.56s -> 323.56s]  Yeah, I think it's, um, how about you command it?\n",
      "[323.56s -> 324.56s]  I think it's enough.\n",
      "[324.56s -> 327.56s]  I mean, I'm having fun, but we can stop if you want to.\n",
      "[328.56s -> 329.56s]  Okay.\n",
      "[329.56s -> 331.56s]  Then we can kill it.\n",
      "[332.56s -> 338.56s]  So, um, all drivers will bow if you put your foot on the brake.\n",
      "[338.56s -> 339.56s]  Okay.\n",
      "[339.56s -> 341.56s]  Commander braking now.\n",
      "[347.56s -> 349.56s]  Please don't run through me.\n",
      "[349.56s -> 350.56s]  No.\n",
      "[351.56s -> 352.56s]  We've been rear-ended.\n",
      "[352.56s -> 354.56s]  Shipped into park.\n",
      "[354.56s -> 356.56s]  And park now.\n",
      "[356.56s -> 357.56s]  Good job, team.\n",
      "\n",
      "Faster Whisper transcription stored in 'faster_whisper_transcript'.\n",
      "Example: Okay, so the drive you're going to complete will use the automation and the object detection systems. That means you will not need to operate the vehicle. So keep your hands off the steering wheel and...\n",
      "\n",
      "Calculating WER for Faster Whisper transcript...\n",
      "Faster Whisper (medium.en) WER: 0.33681073025335323\n"
     ]
    }
   ],
   "source": [
    "\n",
    "from faster_whisper import WhisperModel\n",
    "import torch\n",
    "\n",
    "# Define the model size you want to use (e.g., \"tiny-int8\", \"base\", \"small\", \"medium\", \"large-v2\")\n",
    "# Using int8 models can reduce memory usage and potentially increase speed on some hardware\n",
    "# available_models = [\"tiny\", \"tiny.en\", \"base\", \"base.en\", \"small\", \"small.en\", \"medium\", \"medium.en\", \"large-v1\", \"large-v2\", \"large-v3\"]\n",
    "# Use int8 versions for potentially faster inference with less VRAM if available and supported\n",
    "# For English, \".en\" models are faster but only work for English.\n",
    "model_size = \"medium.en\" # Example: Using a quantized English small model\n",
    "\n",
    "print(f\"Loading Faster Whisper model: {model_size}\")\n",
    "try:\n",
    "    # You can specify device as \"cuda\" if you have a GPU or \"cpu\" if not.\n",
    "    # compute_type can be \"int8\", \"float16\", \"float32\".\n",
    "    # \"int8\" is generally fastest and uses least VRAM on supported hardware (like recent GPUs).\n",
    "    # \"float16\" is a good balance for GPUs. \"float32\" is for CPUs or less capable GPUs.\n",
    "    model = WhisperModel(model_size, device=\"cuda\" if torch.cuda.is_available() else \"cpu\", compute_type=\"int8\")\n",
    "\n",
    "    print(f\"Transcribing audio file: {audio_file} with Faster Whisper ({model_size})\")\n",
    "    segments, info = model.transcribe(audio_file, beam_size=5)\n",
    "\n",
    "    faster_whisper_transcript = \"\"\n",
    "    print(\"Faster Whisper Transcription:\")\n",
    "    for segment in segments:\n",
    "        print(f\"[{segment.start:.2f}s -> {segment.end:.2f}s] {segment.text}\")\n",
    "        faster_whisper_transcript += segment.text + \" \"\n",
    "\n",
    "    # Store the transcript in a variable\n",
    "    # Remove leading/trailing whitespace and replace multiple spaces with single space\n",
    "    faster_whisper_transcript = \" \".join(faster_whisper_transcript.split()).strip()\n",
    "\n",
    "    print(\"\\nFaster Whisper transcription stored in 'faster_whisper_transcript'.\")\n",
    "    print(f\"Example: {faster_whisper_transcript[:200]}...\") # Print first 200 chars as example\n",
    "\n",
    "    # Optionally, calculate WER for the Faster Whisper transcript\n",
    "    print(\"\\nCalculating WER for Faster Whisper transcript...\")\n",
    "    human_text = str(HUMAN).replace('\\n', ' ').strip()\n",
    "    if human_text and faster_whisper_transcript:\n",
    "        wer_faster_whisper = calculate_wer(human_text, faster_whisper_transcript)\n",
    "        print(f\"Faster Whisper ({model_size}) WER: {wer_faster_whisper}\")\n",
    "    elif not human_text:\n",
    "         print(\"Warning: HUMAN transcript is empty. Cannot calculate WER.\")\n",
    "    else:\n",
    "         print(\"Warning: Faster Whisper transcript is empty. Cannot calculate WER.\")\n",
    "\n",
    "except Exception as e:\n",
    "    print(f\"Error using Faster Whisper: {e}\")\n",
    "    faster_whisper_transcript = f\"Error: {e}\"\n",
    "\n"
   ]
  },
  {
   "cell_type": "markdown",
   "metadata": {},
   "source": [
    "# COMPARING THEIR TRANSCRIPTION TIMES"
   ]
  },
  {
   "cell_type": "code",
   "execution_count": 10,
   "metadata": {
    "execution": {
     "iopub.execute_input": "2025-07-21T20:22:36.609022Z",
     "iopub.status.busy": "2025-07-21T20:22:36.608783Z",
     "iopub.status.idle": "2025-07-21T20:24:59.483074Z",
     "shell.execute_reply": "2025-07-21T20:24:59.482281Z",
     "shell.execute_reply.started": "2025-07-21T20:22:36.608952Z"
    },
    "trusted": true
   },
   "outputs": [
    {
     "name": "stdout",
     "output_type": "stream",
     "text": [
      "Using existing audio file: temp_audio.wav\n",
      "\n",
      "Attempting to use device: CUDA\n",
      "\n",
      "--- Initializing Whisper (original) model ---\n"
     ]
    },
    {
     "name": "stderr",
     "output_type": "stream",
     "text": [
      "100%|█████████████████████████████████████| 1.42G/1.42G [00:47<00:00, 32.2MiB/s]\n"
     ]
    },
    {
     "name": "stdout",
     "output_type": "stream",
     "text": [
      "Original Whisper 'medium.en' model loaded on CUDA.\n",
      "\n",
      "--- Initializing Faster Whisper model ---\n",
      "Faster Whisper 'medium.en' model loaded on CUDA (int8).\n",
      "\n",
      "--- Starting Transcription Comparison ---\n",
      "\n",
      "Original Whisper Transcription Time: 61.5068 seconds\n",
      "Transcription (Original Whisper): \"Okay, so the drive you're going to complete will use the automation and the object detection systems. That means you will not need to operate the vehicle. So keep your hands off the steering wheel and feet off the pedals once we get that drive. Okay. So when you see that sim driver indicator highlight green, make sure you don't hit the brake at any point during the drive. Once you drive the car cab lookout, we'll have the ODS. We're getting visual feedback for targets that are in the environment. So the car cab lookout should pay attention to that screen to aid them and everyone else during the mission. Remember to tap the targets on that ODS as well as completing those workstation tasks. All right, so all drivers, put your foot on the brake. Do not remove your foot from the brake until I instruct you to remove it. Car cab driver, you may start the car. All drivers with your foot still on the brake. Keep it on the brake and do not start yet. Keep your foot on the brake. You drove through me. Car cab driver, go back. Car cab driver and only the car cab driver. Yes. Yeah right. Make sure everyone isn't driving. I am now on drive. Car cab driver and only the car cab driver. driver mm-hmm yes right make sure everyone is a drive I am now in Drive driver and I drove drivers you may remove now some driver on a scooter I see scooters on both sides of the road like an electric scooter yeah that's on the left side of the road passing now 10 o'clock do we have any target? not yet I hit target identified yes while those motorcyclists were giving me there's a car red car looks kind of beat up there's boxes on the roof oh I see it's at 10 o'clock ok yeah I think he's on the left side yeah I saw a white car passing now yep we're also passing now why is car 3 so far behind car 2? I don't know yeah there's parking gap is the ODS working? yes yes there should be a white car right now a white car SUV like tube yeah white stand or SUV SUV I see a camel and we got cars coming up there's a driving white car on the left yeah a driving car on the left but he's not passing now I think that was it yeah we have another white SUV and passing that one on the left now passing military checkpoint um there was a truck and it was a tent on the truck um covering it's got like models yeah and it's got like a little like a little bit of a bump and it's got like a bump and it's got like a bump and it's got like models yeah yeah Jack do you feel like this has given you enough to understand or do you want to continue? yeah I think is um how about you come in there? I mean I'm having fun but we can stop if you want to okay dead we can kill it alright so um all drivers will bow and put your foot on the brake okay commander braking now please don't run through me nooo we've been rear ended uh huh uh huh and park now\"\n",
      "\n",
      "Faster Whisper Transcription Time: 17.2613 seconds\n",
      "Transcription (Faster Whisper): \"Okay, so the drive you're going to complete will use the automation and the object detection systems. That means you will not need to operate the vehicle. So keep your hands off the steering wheel and feet off the pedals once we get that drive. Okay. So when you see that sim driver indicator highlight green, make sure you don't hit the brake at any point during the drive. This drive, the car cab lookout, will have the ODS for getting visual feedback for targets that are in the environment. So the car cab lookout should pay attention to that screen to aid them and everyone else during the mission. Remember to tap the targets on that ODS as well as completing those workstation tasks. Alright, so all drivers, put your foot on the brake. Do not remove your foot from the brake until I instruct you to remove it. Car cab driver, you may start the car. All drivers, with your foot still on the brake, you've been on the brake and you're not start yet. You've been on the brake. You drove through me. Car cab driver, go back. Car cab driver, and only the car cab driver, and Ryan, make sure everyone isn't driving. I am now in drive. Car cab driver, and only the car cab driver, you may begin moving forward. As I drove through him. Desktop drivers, you may remove your foot from the brake. I now have sim driver on. We're looking at the person on the scooter. What color scooter? Cross body bag. Scooter? Yeah, has a cross body bag. I see scooters on both sides of the road. Nope, not this one. Yeah, it's like an electric scooter. Ah, yeah, that's on the left side of the road. Yeah, I saw it on the left. Passing now. 10 o'clock. 10 o'clock. Yeah, that was correct. Do we have any target? Not yet. I hit target identified, but. Me as well. Okay. Those motorcyclists were giving me. There's a car. There's a red car that's kind of beat up. There's boxes on the roof. Yeah. Oh, I see it's at 10 o'clock. Passing now. Why is car three so far behind car two? I don't know. Yeah. It's parking now. Is the ODS working? Yes. Sometimes it has a green button there. No, you won't see anything, but Jack should see something in the passenger seat if the ODS is parking. There should be a white car right now. I don't know, I see a green button here. A white car. SEV like tube gap. Now we're looking at a white stand or SEV? SEV, yeah. Yeah, SEV. I see a camel. And we got cars coming up. Oh, I think I saw that. There's a driving white car on the left. On the left. Yeah, driving car on the left. But he's not. Is it? Passing now. I think that was it. Yeah. Oh. We have another white SUV. And, yeah, passing that one on the left now. Passing military checkpoint. Um, now there's a truck. And there's a tent on the truck. Yeah. Yeah. Yup, yup. Yup. Jack, do you feel like this has given you enough to understand or do you want to continue? Yeah, I think it's, um, how about you command it? I think it's enough. I mean, I'm having fun, but we can stop if you want to. Okay. Then we can kill it. So, um, all drivers will bow if you put your foot on the brake. Okay. Commander braking now. Please don't run through me. No. We've been rear-ended. Shipped into park. And park now. Good job, team.\"\n",
      "\n",
      "--- Transcription Comparison Complete ---\n",
      "\n",
      "--- Generating Plot ---\n"
     ]
    },
    {
     "data": {
      "image/png": "[encoded data removed]",
      "text/plain": [
       "<Figure size 800x600 with 1 Axes>"
      ]
     },
     "metadata": {},
     "output_type": "display_data"
    }
   ],
   "source": [
    "import time\n",
    "import os\n",
    "import whisper # Assuming you have openai-whisper installed\n",
    "from faster_whisper import WhisperModel\n",
    "import numpy as np\n",
    "import soundfile as sf # For creating a dummy audio file\n",
    "import matplotlib.pyplot as plt # For plotting\n",
    "\n",
    "# --- GLOBAL SETTINGS ---\n",
    "# Set to True to attempt using CUDA (GPU) if available, False to force CPU.\n",
    "# Ensure you have the necessary CUDA drivers and PyTorch/TensorFlow with CUDA support\n",
    "# installed for GPU acceleration.\n",
    "USE_CUDA_IF_AVAILABLE = True\n",
    "\n",
    "# --- 1. Create a dummy audio file for demonstration ---\n",
    "# In a real scenario, you would replace 'temp_audio.wav' with your actual audio file.\n",
    "# This creates a 10-second mono WAV file with some random noise.\n",
    "audio_filename = \"temp_audio.wav\"\n",
    "sample_rate = 16000 # Standard for Whisper models\n",
    "duration = 10 # seconds\n",
    "if not os.path.exists(audio_filename):\n",
    "    print(f\"Creating a dummy audio file: {audio_filename}\")\n",
    "    # Generate some random audio data\n",
    "    dummy_audio_data = np.random.uniform(-0.5, 0.5, int(sample_rate * duration)).astype(np.float32)\n",
    "    sf.write(audio_filename, dummy_audio_data, sample_rate)\n",
    "    print(\"Dummy audio file created successfully.\")\n",
    "else:\n",
    "    print(f\"Using existing audio file: {audio_filename}\")\n",
    "\n",
    "# Determine the device based on the global setting\n",
    "device_to_use = \"cuda\" if USE_CUDA_IF_AVAILABLE else \"cpu\"\n",
    "print(f\"\\nAttempting to use device: {device_to_use.upper()}\")\n",
    "\n",
    "\n",
    "# --- 2. Load Whisper Models ---\n",
    "# Using the 'medium.en' model as requested.\n",
    "# Note: The first time you run this, it will download the models, which can take a while\n",
    "# for larger models like 'medium.en'.\n",
    "\n",
    "print(\"\\n--- Initializing Whisper (original) model ---\")\n",
    "# Original Whisper model (from openai-whisper)\n",
    "# Ensure you have 'pip install openai-whisper'\n",
    "try:\n",
    "    # Original Whisper's load_model automatically uses GPU if available unless specified otherwise.\n",
    "    # We explicitly set it here for consistency with the user's choice.\n",
    "    original_whisper_model = whisper.load_model(\"medium.en\", device=device_to_use)\n",
    "    print(f\"Original Whisper 'medium.en' model loaded on {device_to_use.upper()}.\")\n",
    "except Exception as e:\n",
    "    print(f\"Error loading original Whisper model on {device_to_use.upper()}: {e}\")\n",
    "    print(\"Please ensure 'openai-whisper' is installed and CUDA is properly configured if using GPU.\")\n",
    "    original_whisper_model = None\n",
    "\n",
    "print(\"\\n--- Initializing Faster Whisper model ---\")\n",
    "# Faster Whisper model (from faster-whisper)\n",
    "# Ensure you have 'pip install faster-whisper'\n",
    "try:\n",
    "    faster_whisper_model = WhisperModel(\"medium.en\", device=device_to_use, compute_type=\"int8\")\n",
    "    print(f\"Faster Whisper 'medium.en' model loaded on {device_to_use.upper()} (int8).\")\n",
    "except Exception as e:\n",
    "    print(f\"Error loading Faster Whisper model on {device_to_use.upper()}: {e}\")\n",
    "    print(\"Please ensure 'faster-whisper' is installed and CUDA is properly configured if using GPU.\")\n",
    "    faster_whisper_model = None\n",
    "\n",
    "# Initialize transcription times to None, in case a model fails to load\n",
    "time_whisper = None\n",
    "time_faster_whisper = None\n",
    "\n",
    "# --- 3. Perform Transcription and Measure Times ---\n",
    "print(\"\\n--- Starting Transcription Comparison ---\")\n",
    "\n",
    "# Transcription with original Whisper\n",
    "if original_whisper_model:\n",
    "    start_time_whisper = time.time()\n",
    "    try:\n",
    "        # The transcribe method returns a dictionary\n",
    "        result_whisper = original_whisper_model.transcribe(audio_filename)\n",
    "        transcription_whisper = result_whisper[\"text\"]\n",
    "        end_time_whisper = time.time()\n",
    "        time_whisper = end_time_whisper - start_time_whisper\n",
    "        print(f\"\\nOriginal Whisper Transcription Time: {time_whisper:.4f} seconds\")\n",
    "        print(f\"Transcription (Original Whisper): \\\"{transcription_whisper.strip()}\\\"\")\n",
    "    except Exception as e:\n",
    "        print(f\"Error during original Whisper transcription: {e}\")\n",
    "else:\n",
    "    print(\"\\nOriginal Whisper model not loaded, skipping transcription.\")\n",
    "\n",
    "\n",
    "# Transcription with Faster Whisper\n",
    "if faster_whisper_model:\n",
    "    start_time_faster_whisper = time.time()\n",
    "    try:\n",
    "        # Faster Whisper returns segments and info\n",
    "        segments, info = faster_whisper_model.transcribe(audio_filename, beam_size=5)\n",
    "        # Concatenate segments to get full text\n",
    "        transcription_faster_whisper = \"\".join([segment.text for segment in segments])\n",
    "        end_time_faster_whisper = time.time()\n",
    "        time_faster_whisper = end_time_faster_whisper - start_time_faster_whisper\n",
    "        print(f\"\\nFaster Whisper Transcription Time: {time_faster_whisper:.4f} seconds\")\n",
    "        print(f\"Transcription (Faster Whisper): \\\"{transcription_faster_whisper.strip()}\\\"\")\n",
    "    except Exception as e:\n",
    "        print(f\"Error during Faster Whisper transcription: {e}\")\n",
    "else:\n",
    "    print(\"\\nFaster Whisper model not loaded, skipping transcription.\")\n",
    "\n",
    "print(\"\\n--- Transcription Comparison Complete ---\")\n",
    "\n",
    "\n",
    "# --- 4. Plotting the results using Matplotlib ---\n",
    "# Only plot if both transcription times were successfully obtained\n",
    "if time_whisper is not None and time_faster_whisper is not None:\n",
    "    print(\"\\n--- Generating Plot ---\")\n",
    "    labels = ['Whisper (Original)', 'Faster Whisper']\n",
    "    times = [time_whisper, time_faster_whisper]\n",
    "    colors = ['#4299e1', '#667eea'] # A nice blue and indigo for distinction\n",
    "\n",
    "    fig, ax = plt.subplots(figsize=(8, 6)) # Set a good figure size\n",
    "\n",
    "    # Plotting the bars\n",
    "    bars = ax.bar(labels, times, color=colors, width=0.6)\n",
    "\n",
    "    # Add title and labels\n",
    "    ax.set_title(f'Transcription Time Comparison (medium.en model on {device_to_use.upper()})', fontsize=16, fontweight='bold')\n",
    "    ax.set_ylabel('Time (seconds)', fontsize=12)\n",
    "    # Set y-axis limit to be 20% higher than the max time, ensuring it starts from 0\n",
    "    ax.set_ylim(0, max(times) * 1.2 if times else 1) # Handle empty list case\n",
    "\n",
    "    # Add the actual time values on top of the bars\n",
    "    for bar in bars:\n",
    "        yval = bar.get_height()\n",
    "        ax.text(bar.get_x() + bar.get_width()/2, yval + 0.5, f'{yval:.2f}s',\n",
    "                ha='center', va='bottom', fontsize=10, color='black')\n",
    "\n",
    "    # Customize ticks and spines for a cleaner look\n",
    "    ax.tick_params(axis='x', labelsize=12)\n",
    "    ax.tick_params(axis='y', labelsize=10)\n",
    "    ax.spines['top'].set_visible(False)\n",
    "    ax.spines['right'].set_visible(False)\n",
    "    ax.spines['left'].set_linewidth(0.5)\n",
    "    ax.spines['bottom'].set_linewidth(0.5)\n",
    "\n",
    "    # Add a grid for better readability\n",
    "    ax.grid(axis='y', linestyle='--', alpha=0.7)\n",
    "\n",
    "    # Ensure tight layout to prevent labels from being cut off\n",
    "    plt.tight_layout()\n",
    "\n",
    "    # Display the plot\n",
    "    plt.show()\n",
    "else:\n",
    "    print(\"\\nSkipping plot generation: Transcription times could not be obtained for both models.\")\n",
    "\n",
    "# --- 5. Clean up dummy audio file (optional) ---\n",
    "# if os.path.exists(audio_filename):\n",
    "#     os.remove(audio_filename)\n",
    "#     print(f\"\\nRemoved dummy audio file: {audio_filename}\")\n"
   ]
  },
  {
   "cell_type": "markdown",
   "metadata": {},
   "source": [
    "# COMPARING THEIR PERFORMANCE"
   ]
  },
  {
   "cell_type": "code",
   "execution_count": 11,
   "metadata": {
    "execution": {
     "iopub.execute_input": "2025-07-21T20:24:59.485269Z",
     "iopub.status.busy": "2025-07-21T20:24:59.485064Z",
     "iopub.status.idle": "2025-07-21T20:25:04.448465Z",
     "shell.execute_reply": "2025-07-21T20:25:04.447747Z",
     "shell.execute_reply.started": "2025-07-21T20:24:59.485252Z"
    },
    "trusted": true
   },
   "outputs": [
    {
     "name": "stdout",
     "output_type": "stream",
     "text": [
      "\u001b[2K   \u001b[90m━━━━━━━━━━━━━━━━━━━━━━━━━━━━━━━━━━━━━━━━\u001b[0m \u001b[32m3.1/3.1 MB\u001b[0m \u001b[31m37.0 MB/s\u001b[0m eta \u001b[36m0:00:00\u001b[0m00:01\u001b[0m00:01\u001b[0m\n",
      "\u001b[?25h"
     ]
    }
   ],
   "source": [
    "!pip install jiwer -qq"
   ]
  },
  {
   "cell_type": "code",
   "execution_count": 14,
   "metadata": {
    "execution": {
     "iopub.execute_input": "2025-07-21T20:27:09.897996Z",
     "iopub.status.busy": "2025-07-21T20:27:09.897280Z",
     "iopub.status.idle": "2025-07-21T20:27:10.048686Z",
     "shell.execute_reply": "2025-07-21T20:27:10.047882Z",
     "shell.execute_reply.started": "2025-07-21T20:27:09.897963Z"
    },
    "trusted": true
   },
   "outputs": [
    {
     "name": "stdout",
     "output_type": "stream",
     "text": [
      "Human Reference Transcription: \"\n",
      "Okay, so the drive you're going to complete will use the vehicle automation and the object detection system.\n",
      "So that means you will not need to operate the vehicle. You should keep your hands off the steering wheel and feet off the pedals once we begin that drive.\n",
      "Okay. So when you see that sim driver indicator highlight green, make sure you don't hit the brake at any point during the drive.\n",
      "For this drive, the car cab lookout will have the ODS for getting visual feedback for targets that are in the environment.\n",
      "So the car cab lookout should pay attention to that screen to aid them and everyone else during the mission.\n",
      "Remember to tap the targets on that ODS as well as completing those workstation tasks. All right,\n",
      "so all drivers put your foot on the brake. Do not remove your foot from the brake until I instruct you to remove it. Car cab driver,\n",
      "you may start the car All drivers with your foot still on the brake. Keep it on the brake and do not start yet, keep your foot on the brake.\n",
      "You drove through me. Car cab driver and only the car cab driver. Yes. Make sure everyone is in drive. I am now in drive. Okay, car cab driver and only the car cab driver, you may begin move forward. As I drove through him. Desktop drivers you may remove your foot from the brake. We now have simdriver on. We are looking at a person on a scooter.What color scooter?. Scooter. Yeah with a cross body bag. It's driving automatic. I see scooters on both sides of the road . Nope not this one , not Motorcycles. It's like an electric scooter. Ah yeah, that's on the left side of the road. Yeah, I saw her on the left. passing now. 10'o clock. Yeah, that was correct. Do we have a new target? Not yet. I hit target identified but. Me as well. Okay. Those motorcyclists were giving me a hand. There's a car. There's a red car thats kind of beat up, there's boxes on the roof. Yeah. Pass. Oh, I see it. It's at ten o'clock. Okay, yeah, I think it's on the left. I see the box. I think he's on the left side, yeah. Yeah, I saw him on the left, nine o'clock. Passing now. Yup. Yeah, we're also passing now, car one. Why is car three so far behind car two? I don't know, it's driving itself. Yeah. Is the ODS working? Yes. Sometimes it has a green button there, that says identified. No you won't see anything but they should see something in the passenger seat if the ODS is working. It should be a white car right now. But we see a green button here. A white car. We are looking for a white jeep. SUV, like a jeep. Now we're looking for a white stand or SUV? SUV, yeah. Yeah, SUV. I see a camel. Now We got cars coming up. Oh, I just saw that. there's a driving white car on the left. Yeah, white car on the left. But it's not is it?. Passing now, I think that was it. Yeah We have another white SUV and They look pretty similar. yeah passing that one left now. Passing military checkpoint. Now we're looking for like a Humvee with a. There is a truck and there is a tent on the truck. It's got like stereotypical army camouflage Yeah. Yup. Yup. Jack do you feel like this has given you enough to understand or do you want to continue? Yeah, I think. How about you commander? I think it's enough. I mean I'm having fun, but we can stop if you want to. Okay. Ben, we can kill it. Alright, so all drivers will slowly put your foot on the brake. Okay, commander breaking now. Please don't run through me! No! We've been rear-ended. Shift into park. And parked now. Good job, team.\n",
      "\"\n",
      "\n",
      "Whisper (Original) Hypothesis: \"Okay, so the drive you're going to complete will use the automation and the object detection systems. That means you will not need to operate the vehicle. So keep your hands off the steering wheel and feet off the pedals once we get that drive. Okay. So when you see that sim driver indicator highlight green, make sure you don't hit the brake at any point during the drive. Once you drive the car cab lookout, we'll have the ODS. We're getting visual feedback for targets that are in the environment. So the car cab lookout should pay attention to that screen to aid them and everyone else during the mission. Remember to tap the targets on that ODS as well as completing those workstation tasks. All right, so all drivers, put your foot on the brake. Do not remove your foot from the brake until I instruct you to remove it. Car cab driver, you may start the car. All drivers with your foot still on the brake. Keep it on the brake and do not start yet. Keep your foot on the brake. You drove through me. Car cab driver, go back. Car cab driver and only the car cab driver. Yes. Yeah right. Make sure everyone isn't driving. Car cab driver and only the car cab driver. You may begin moving forward. As I drove through him. Desktop drivers you may remove your foot from the brake. We now have simdriver on. We're looking at the engine ramp. I'm going to turn it off. ever on? I see scooters on both sides of the road. Nope, not this one. Yeah, it's like an electric scooter. Ah, yeah, that's on the left side of the road. Yeah, I saw her on the left. Passing now. 10 o'clock. Yeah, that was a practice. Do we have any target? Not yet. I hit target identified, but... Yes, Paul. Okay. Those motorcyclists were giving me... There's a car. Red car looks kind of beat up. There's boxes on the roof. Mm-hmm. Uh, pass... Oh, I see it. It's at 10 o'clock. Okay, yeah, on the left. I think he's... Yeah, I saw him on the left side. Passing now. Yeah, we're also passing now. Car 1. Car 2. Why is Car 3 so far behind Car 2? I don't know. I don't know, but it's in the south. Yeah. There's parking gaps. Is the ODS working? Yes. Sometimes it has a green button there. It says identify now. No, you won't see anything, but Jack, you should see something in the passenger seat if the ODS is parking. There should be a white car right now. Don't we see a green button here? A white car. SUV, like tube, yeah. Now we're looking at a white stand? Or SUV? SUV. Yeah, SUV. Mm-hmm. I see a camel. And we got cars coming up. Oh, I think I saw that. There's a driving white car on the left. Yeah, a driving car on the left. Not a bug. But he's not... Is it? Passing now. I think that was it. Yeah. Oh. We have another white SUV. And... Yeah, passing that one on the left now. I think that was... Sure. Obviously. Might have been one of them. Passing military checkpoint. Um... There was a truck. And it was a tent on the truck. Um... Covering it, it's got like models like green. Yeah. Like, there's a full army camouflage. Yeah. Yep. Yep. Jack, do you feel like this has given you enough to understand, or do you want to continue? Yeah, I think it's... Um... How about you, Commander? I think it's enough. I mean, I'm having fun, but we can stop if you want to. Ok. Then we can kill it. Alright, so, um... All drivers will bow and you can put your foot on the brake. Ok. Commander braking now. Please don't run through me. No! We've been rear-ended. Shipped into park. Mm-hmm. Mm-hmm. And park now. Good job, team.\"\n",
      "Faster Whisper Hypothesis: \" Okay, so the drive you're going to complete will use the automation and the object detection systems. That means you will not need to operate the vehicle. So keep your hands off the steering wheel and feet off the pedals once we get that drive. Okay. So when you see that sim driver indicator highlight green, make sure you don't hit the brake at any point during the drive. This drive, the car cab lookout, will have the ODS for getting visual feedback for targets that are in the environment. So the car cab lookout should pay attention to that screen to aid them and everyone else during the mission. Remember to tap the targets on that ODS as well as completing those workstation tasks. Alright, so all drivers, put your foot on the brake. Do not remove your foot from the brake until I instruct you to remove it. Car cab driver, you may start the car. All drivers, with your foot still on the brake, you've been on the brake and you're not start yet. You've been on the brake. You drove through me. Car cab driver, go back. Car cab driver, and only the car cab driver, and Ryan, make sure everyone isn't driving. I am now in drive. Car cab driver, and only the car cab driver, you may begin moving forward. As I drove through him. Desktop drivers, you may remove your foot from the brake. I now have sim driver on. We're looking at the person on the scooter. What color scooter? Cross body bag. Scooter? Yeah, has a cross body bag. I see scooters on both sides of the road. Nope, not this one. Yeah, it's like an electric scooter. Ah, yeah, that's on the left side of the road. Yeah, I saw it on the left. Passing now. 10 o'clock. 10 o'clock. Yeah, that was correct. Do we have any target? Not yet. I hit target identified, but. Me as well. Okay. Those motorcyclists were giving me. There's a car. There's a red car that's kind of beat up. There's boxes on the roof. Yeah. Oh, I see it's at 10 o'clock. Passing now. Why is car three so far behind car two? I don't know. Yeah. It's parking now. Is the ODS working? Yes. Sometimes it has a green button there. No, you won't see anything, but Jack should see something in the passenger seat if the ODS is parking. There should be a white car right now. I don't know, I see a green button here. A white car. SEV like tube gap. Now we're looking at a white stand or SEV? SEV, yeah. Yeah, SEV. I see a camel. And we got cars coming up. Oh, I think I saw that. There's a driving white car on the left. On the left. Yeah, driving car on the left. But he's not. Is it? Passing now. I think that was it. Yeah. Oh. We have another white SUV. And, yeah, passing that one on the left now. Passing military checkpoint. Um, now there's a truck. And there's a tent on the truck. Yeah. Yeah. Yup, yup. Yup. Jack, do you feel like this has given you enough to understand or do you want to continue? Yeah, I think it's, um, how about you command it? I think it's enough. I mean, I'm having fun, but we can stop if you want to. Okay. Then we can kill it. So, um, all drivers will bow if you put your foot on the brake. Okay. Commander braking now. Please don't run through me. No. We've been rear-ended. Shipped into park. And park now. Good job, team.\"\n",
      "\n",
      "WER (Original Whisper): 0.3816\n",
      "WER (Faster Whisper): 0.3544\n",
      "\n",
      "--- Generating WER Plot ---\n"
     ]
    },
    {
     "data": {
      "image/png": "[encoded data removed]",
      "text/plain": [
       "<Figure size 800x600 with 1 Axes>"
      ]
     },
     "metadata": {},
     "output_type": "display_data"
    }
   ],
   "source": [
    "import matplotlib.pyplot as plt\n",
    "import jiwer # For Word Error Rate (WER) calculation\n",
    "\n",
    "\n",
    "\n",
    "\n",
    "print(f\"Human Reference Transcription: \\\"{HUMAN}\\\"\")\n",
    "\n",
    "\n",
    "print(f\"\\nWhisper (Original) Hypothesis: \\\"{medium_en}\\\"\")\n",
    "print(f\"Faster Whisper Hypothesis: \\\"{transcription_faster_whisper}\\\"\")\n",
    "\n",
    "# --- Calculate WER Scores ---\n",
    "# jiwer.wer expects lists of strings for both reference and hypothesis.\n",
    "wer_whisper = jiwer.wer(reference=[HUMAN], hypothesis=[medium_en])\n",
    "wer_faster_whisper = jiwer.wer(reference=[HUMAN], hypothesis=[transcription_faster_whisper])\n",
    "\n",
    "print(f\"\\nWER (Original Whisper): {wer_whisper:.4f}\")\n",
    "print(f\"WER (Faster Whisper): {wer_faster_whisper:.4f}\")\n",
    "\n",
    "# --- Plotting the WER results using Matplotlib ---\n",
    "print(\"\\n--- Generating WER Plot ---\")\n",
    "\n",
    "labels = ['Whisper (Original)', 'Faster Whisper']\n",
    "wer_scores = [wer_whisper, wer_faster_whisper]\n",
    "colors = ['#f6ad55', '#9f7aea'] # Orange and Purple for WER distinction\n",
    "\n",
    "fig, ax = plt.subplots(figsize=(8, 6)) # Set a good figure size\n",
    "\n",
    "# Plotting the bars\n",
    "bars = ax.bar(labels, wer_scores, color=colors, width=0.6)\n",
    "\n",
    "# Add title and labels\n",
    "ax.set_title('Word Error Rate (WER) Comparison', fontsize=16, fontweight='bold')\n",
    "ax.set_ylabel('WER Score', fontsize=12)\n",
    "ax.set_ylim(0, max(wer_scores) * 1.2 if wer_scores else 1) # Set y-axis limit, ensuring it starts from 0\n",
    "\n",
    "# Add the actual WER values on top of the bars\n",
    "for bar in bars:\n",
    "    yval = bar.get_height()\n",
    "    ax.text(bar.get_x() + bar.get_width()/2, yval + 0.01, f'{yval:.4f}',\n",
    "            ha='center', va='bottom', fontsize=10, color='black')\n",
    "\n",
    "# Customize ticks and spines for a cleaner look\n",
    "ax.tick_params(axis='x', labelsize=12)\n",
    "ax.tick_params(axis='y', labelsize=10)\n",
    "ax.spines['top'].set_visible(False)\n",
    "ax.spines['right'].set_visible(False)\n",
    "ax.spines['left'].set_linewidth(0.5)\n",
    "ax.spines['bottom'].set_linewidth(0.5)\n",
    "\n",
    "# Add a grid for better readability\n",
    "ax.grid(axis='y', linestyle='--', alpha=0.7)\n",
    "\n",
    "# Ensure tight layout to prevent labels from being cut off\n",
    "plt.tight_layout()\n",
    "\n",
    "# Display the plot\n",
    "plt.show()\n"
   ]
  },
  {
   "cell_type": "code",
   "execution_count": null,
   "metadata": {
    "trusted": true
   },
   "outputs": [],
   "source": []
  },
  {
   "cell_type": "code",
   "execution_count": null,
   "metadata": {
    "trusted": true
   },
   "outputs": [],
   "source": []
  },
  {
   "cell_type": "code",
   "execution_count": null,
   "metadata": {
    "trusted": true
   },
   "outputs": [],
   "source": []
  },
  {
   "cell_type": "code",
   "execution_count": null,
   "metadata": {
    "trusted": true
   },
   "outputs": [],
   "source": []
  },
  {
   "cell_type": "code",
   "execution_count": null,
   "metadata": {
    "trusted": true
   },
   "outputs": [],
   "source": []
  },
  {
   "cell_type": "code",
   "execution_count": null,
   "metadata": {
    "trusted": true
   },
   "outputs": [],
   "source": []
  },
  {
   "cell_type": "code",
   "execution_count": null,
   "metadata": {
    "trusted": true
   },
   "outputs": [],
   "source": []
  },
  {
   "cell_type": "code",
   "execution_count": null,
   "metadata": {
    "trusted": true
   },
   "outputs": [],
   "source": []
  },
  {
   "cell_type": "code",
   "execution_count": null,
   "metadata": {
    "trusted": true
   },
   "outputs": [],
   "source": []
  },
  {
   "cell_type": "code",
   "execution_count": null,
   "metadata": {
    "trusted": true
   },
   "outputs": [],
   "source": []
  },
  {
   "cell_type": "code",
   "execution_count": null,
   "metadata": {
    "trusted": true
   },
   "outputs": [],
   "source": []
  },
  {
   "cell_type": "code",
   "execution_count": null,
   "metadata": {
    "trusted": true
   },
   "outputs": [],
   "source": []
  },
  {
   "cell_type": "code",
   "execution_count": null,
   "metadata": {
    "trusted": true
   },
   "outputs": [],
   "source": []
  }
 ],
 "metadata": {
  "accelerator": "GPU",
  "colab": {
   "authorship_tag": "ABX9TyNGiNiat7/rnapDqZHPvQ8y",
   "gpuType": "T4",
   "provenance": []
  },
  "kaggle": {
   "accelerator": "nvidiaTeslaT4",
   "dataSources": [
    {
     "datasetId": 7888212,
     "sourceId": 12498888,
     "sourceType": "datasetVersion"
    }
   ],
   "dockerImageVersionId": 31090,
   "isGpuEnabled": true,
   "isInternetEnabled": true,
   "language": "python",
   "sourceType": "notebook"
  },
  "kernelspec": {
   "display_name": "Python 3",
   "language": "python",
   "name": "python3"
  },
  "language_info": {
   "codemirror_mode": {
    "name": "ipython",
    "version": 3
   },
   "file_extension": ".py",
   "mimetype": "text/x-python",
   "name": "python",
   "nbconvert_exporter": "python",
   "pygments_lexer": "ipython3",
   "version": "3.11.13"
  }
 },
 "nbformat": 4,
 "nbformat_minor": 4
}
